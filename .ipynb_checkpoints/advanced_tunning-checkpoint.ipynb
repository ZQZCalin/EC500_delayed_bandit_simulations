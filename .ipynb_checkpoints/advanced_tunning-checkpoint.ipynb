{
 "cells": [
  {
   "cell_type": "code",
   "execution_count": 2,
   "id": "ad8a79e6",
   "metadata": {},
   "outputs": [],
   "source": [
    "import numpy as np\n",
    "from lr_tuner import Advanced_tunning"
   ]
  },
  {
   "cell_type": "code",
   "execution_count": 3,
   "id": "a9e20265",
   "metadata": {},
   "outputs": [],
   "source": [
    "# user input:\n",
    "T = 10\n",
    "k = 10 # dim\n",
    "# give a sequence of d_t [T,1]\n",
    "d_t = np.ones(T)\n",
    "d_t[0] = 6\n",
    "d_t[1] = 3\n",
    "d_t[2] = 9\n",
    "\n"
   ]
  },
  {
   "cell_type": "code",
   "execution_count": 4,
   "id": "65220386",
   "metadata": {},
   "outputs": [
    {
     "name": "stdout",
     "output_type": "stream",
     "text": [
      "0.0\n",
      "0.6590102289822608\n",
      "0.9319812035693121\n",
      "1.1414391993048756\n",
      "1.473591669872037\n",
      "1.6142387962812412\n",
      "1.7435771773347926\n",
      "1.8639624071386243\n",
      "1.9770306869467824\n",
      "2.0839733249330514\n"
     ]
    }
   ],
   "source": [
    "# output: inverse of eta t \n",
    "\n",
    "ad_tuner = Advanced_tunning(T, d_t, k)\n",
    "for t in range(1,T+1):\n",
    "    \n",
    "    # determin eta_t\n",
    "    inv_eta_t = ad_tuner.tune()\n",
    "    print(inv_eta_t)\n",
    "\n",
    "    "
   ]
  }
 ],
 "metadata": {
  "kernelspec": {
   "display_name": "Python 3",
   "language": "python",
   "name": "python3"
  },
  "language_info": {
   "codemirror_mode": {
    "name": "ipython",
    "version": 3
   },
   "file_extension": ".py",
   "mimetype": "text/x-python",
   "name": "python",
   "nbconvert_exporter": "python",
   "pygments_lexer": "ipython3",
   "version": "3.8.10"
  }
 },
 "nbformat": 4,
 "nbformat_minor": 5
}
