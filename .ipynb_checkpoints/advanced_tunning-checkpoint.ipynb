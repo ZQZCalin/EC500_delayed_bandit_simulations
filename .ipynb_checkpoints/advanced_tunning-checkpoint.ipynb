{
 "cells": [
  {
   "cell_type": "code",
   "execution_count": 1,
   "id": "ad8a79e6",
   "metadata": {},
   "outputs": [],
   "source": [
    "import numpy as np"
   ]
  },
  {
   "cell_type": "code",
   "execution_count": 2,
   "id": "a9e20265",
   "metadata": {},
   "outputs": [],
   "source": [
    "# user input:\n",
    "T = 10\n",
    "k = 10 # dim\n",
    "# give a sequence of d_t [T,1]\n",
    "d_t = np.ones(T)\n",
    "d_t[0] = 6\n",
    "d_t[1] = 3\n",
    "d_t[2] = 9\n",
    "\n"
   ]
  },
  {
   "cell_type": "code",
   "execution_count": 3,
   "id": "9d9ae28e",
   "metadata": {},
   "outputs": [],
   "source": [
    "def advanced_tunning(a_st, d_t, D_t, k, t):\n",
    "    # determin eta_t\n",
    "    if t==1:\n",
    "        sigma_t = 0\n",
    "    else:\n",
    "        indicator = np.arange(1,t) + d_t[:t-1] >= t\n",
    "        sigma_t = (indicator * a_st[:t-1,t-1]).sum()\n",
    "    \n",
    "    D_t += sigma_t\n",
    "    inv_eta_t = np.sqrt(D_t/np.log(k)) \n",
    "    \n",
    "    for s in range(1, t):\n",
    "        if min(d_t[s-1], t-s)>inv_eta_t:\n",
    "            a_st[s-1,t:] = 0\n",
    "    \n",
    "    return a_st,D_t,inv_eta_t"
   ]
  },
  {
   "cell_type": "code",
   "execution_count": 4,
   "id": "dd7ce0c7",
   "metadata": {},
   "outputs": [
    {
     "name": "stdout",
     "output_type": "stream",
     "text": [
      "0.0\n",
      "0.6590102289822608\n",
      "0.9319812035693121\n",
      "1.1414391993048756\n",
      "1.473591669872037\n",
      "1.6142387962812412\n",
      "1.7435771773347926\n",
      "1.8639624071386243\n",
      "1.9770306869467824\n",
      "2.0839733249330514\n"
     ]
    }
   ],
   "source": [
    "# initilisation:\n",
    "D_t = 0\n",
    "\n",
    "a_st = np.ones((T,T)) #[s,t]\n",
    "\n",
    "for t in range(1,T+1):\n",
    "    \n",
    "    # determin eta_t\n",
    "    a_st, D_t, inv_eta_t= advanced_tunning(a_st, d_t, D_t, k, t)\n",
    "    print(inv_eta_t)\n",
    "    \n",
    "    # set x_t = argmin\n",
    "    \n",
    "    # sample A_t~x_t\n",
    "    \n",
    "    # for s:s_d_s = t:\n",
    "\n",
    "    \n"
   ]
  }
 ],
 "metadata": {
  "kernelspec": {
   "display_name": "Python 3",
   "language": "python",
   "name": "python3"
  },
  "language_info": {
   "codemirror_mode": {
    "name": "ipython",
    "version": 3
   },
   "file_extension": ".py",
   "mimetype": "text/x-python",
   "name": "python",
   "nbconvert_exporter": "python",
   "pygments_lexer": "ipython3",
   "version": "3.8.10"
  }
 },
 "nbformat": 4,
 "nbformat_minor": 5
}
